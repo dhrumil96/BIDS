{
  "nbformat": 4,
  "nbformat_minor": 0,
  "metadata": {
    "colab": {
      "name": "Assignment-4.ipynb",
      "provenance": [],
      "collapsed_sections": [],
      "include_colab_link": true
    },
    "kernelspec": {
      "name": "python3",
      "display_name": "Python 3"
    }
  },
  "cells": [
    {
      "cell_type": "markdown",
      "metadata": {
        "id": "view-in-github",
        "colab_type": "text"
      },
      "source": [
        "<a href=\"https://colab.research.google.com/github/dhrumil96/BIDS/blob/master/BIDS_Assignment_4.ipynb\" target=\"_parent\"><img src=\"https://colab.research.google.com/assets/colab-badge.svg\" alt=\"Open In Colab\"/></a>"
      ]
    },
    {
      "cell_type": "code",
      "metadata": {
        "id": "EXxuR2NxRHMh",
        "colab_type": "code",
        "colab": {
          "base_uri": "https://localhost:8080/",
          "height": 52
        },
        "outputId": "7b517612-a970-4a25-ce61-12ee8b80ae89"
      },
      "source": [
        "import os\n",
        "import time\n",
        "import gc\n",
        "\n",
        "# data science imports\n",
        "import pandas as pd\n",
        "from scipy.sparse import csr_matrix\n",
        "from sklearn.neighbors import NearestNeighbors\n",
        "\n",
        "# utils import\n",
        "!pip install -q fuzzywuzzy\n",
        "from fuzzywuzzy import fuzz"
      ],
      "execution_count": 1,
      "outputs": [
        {
          "output_type": "stream",
          "text": [
            "/usr/local/lib/python3.6/dist-packages/fuzzywuzzy/fuzz.py:11: UserWarning: Using slow pure-python SequenceMatcher. Install python-Levenshtein to remove this warning\n",
            "  warnings.warn('Using slow pure-python SequenceMatcher. Install python-Levenshtein to remove this warning')\n"
          ],
          "name": "stderr"
        }
      ]
    },
    {
      "cell_type": "code",
      "metadata": {
        "id": "42PHEW5cRHl3",
        "colab_type": "code",
        "colab": {}
      },
      "source": [
        "url = 'https://raw.githubusercontent.com/dhrumil96/BIDS/master/movies.csv'\n",
        "movies = pd.read_csv(url)\n",
        "\n",
        "url = 'https://raw.githubusercontent.com/dhrumil96/BIDS/master/ratings.csv'\n",
        "ratings = pd.read_csv(url)"
      ],
      "execution_count": 0,
      "outputs": []
    },
    {
      "cell_type": "code",
      "metadata": {
        "id": "tVOMOFz3RHol",
        "colab_type": "code",
        "colab": {}
      },
      "source": [
        "class KnnRecommender:\n",
        "    \"\"\"\n",
        "    This is an item-based collaborative filtering recommender with\n",
        "    KNN implmented by sklearn\n",
        "    \"\"\"\n",
        "    def __init__(self):\n",
        "        \"\"\"\n",
        "        Recommender requires path to data: movies data and ratings data\n",
        "        Parameters\n",
        "        ----------\n",
        "        path_movies: str, movies data file path\n",
        "        path_ratings: str, ratings data file path\n",
        "        \"\"\"\n",
        "        \n",
        "        self.movie_rating_thres = 0\n",
        "        self.user_rating_thres = 0\n",
        "        self.model = NearestNeighbors(5,'brut', metric='cosine', n_jobs=-1)\n",
        "\n",
        "    def set_filter_params(self, movie_rating_thres, user_rating_thres):\n",
        "        \"\"\"\n",
        "        set rating frequency threshold to filter less-known movies and\n",
        "        less active users\n",
        "        Parameters\n",
        "        ----------\n",
        "        movie_rating_thres: int, minimum number of ratings received by users\n",
        "        user_rating_thres: int, minimum number of ratings a user gives\n",
        "        \"\"\"\n",
        "        self.movie_rating_thres = movie_rating_thres\n",
        "        self.user_rating_thres = user_rating_thres\n",
        "    \n",
        "  \n",
        "    def _prep_data(self):\n",
        "        \"\"\"\n",
        "        prepare data for recommender\n",
        "        1. movie-user scipy sparse matrix\n",
        "        2. hashmap of movie to row index in movie-user scipy sparse matrix\n",
        "        \"\"\"\n",
        "                \n",
        "        df_ratings = ratings\n",
        "        df_movies = movies\n",
        "        \n",
        "        # filter data\n",
        "        df_movies_cnt = pd.DataFrame(\n",
        "            df_ratings.groupby('movieId').size(),\n",
        "            columns=['count'])\n",
        "        popular_movies = list(set(df_movies_cnt.query('count >= @self.movie_rating_thres').index))  # noqa\n",
        "        movies_filter = df_ratings.movieId.isin(popular_movies).values\n",
        "\n",
        "        df_users_cnt = pd.DataFrame(\n",
        "            df_ratings.groupby('userId').size(),\n",
        "            columns=['count'])\n",
        "        active_users = list(set(df_users_cnt.query('count >= @self.user_rating_thres').index))  # noqa\n",
        "        users_filter = df_ratings.userId.isin(active_users).values\n",
        "\n",
        "        df_ratings_filtered = df_ratings[movies_filter & users_filter]\n",
        "\n",
        "        # pivot and create movie-user matrix\n",
        "        movie_user_mat = df_ratings_filtered.pivot(\n",
        "            index='movieId', columns='userId', values='rating').fillna(0)\n",
        "        # create mapper from movie title to index\n",
        "        hashmap = {\n",
        "            movie: i for i, movie in\n",
        "            enumerate(list(df_movies.set_index('movieId').loc[movie_user_mat.index].title)) # noqa\n",
        "        }\n",
        "        # transform matrix to scipy sparse matrix\n",
        "        movie_user_mat_sparse = csr_matrix(movie_user_mat.values)\n",
        "\n",
        "        # clean up\n",
        "        del df_movies, df_movies_cnt, df_users_cnt\n",
        "        del df_ratings, df_ratings_filtered, movie_user_mat\n",
        "        gc.collect()\n",
        "        return movie_user_mat_sparse, hashmap\n",
        "\n",
        "        \n",
        "    def _inference(self, model, data, hashmap,\n",
        "                   fav_movie, n_recommendations):\n",
        "        \"\"\"\n",
        "        return top n similar movie recommendations based on user's input movie\n",
        "        Parameters\n",
        "        ----------\n",
        "        model: sklearn model, knn model\n",
        "        data: movie-user matrix\n",
        "        hashmap: dict, map movie title name to index of the movie in data\n",
        "        fav_movie: str, name of user input movie\n",
        "        n_recommendations: int, top n recommendations\n",
        "        Return\n",
        "        ------\n",
        "        list of top n similar movie recommendations\n",
        "        \"\"\"\n",
        "        # fit\n",
        "        model.fit(data)\n",
        "        \n",
        "        # get input movie index\n",
        "        print('You have input movie:', fav_movie)\n",
        "        \n",
        "        match_found = []\n",
        "        # get match\n",
        "        for title, idx in hashmap.items():\n",
        "            ratio = fuzz.token_set_ratio(title.lower(), fav_movie.lower())\n",
        "            if ratio >= 50:\n",
        "                match_found.append((title, idx, ratio))\n",
        "        # sort\n",
        "        match_found = sorted(match_found, key=lambda x: x[2])[::-1]\n",
        "        if not match_found:\n",
        "            print('Oops! No match is found')\n",
        "        else:\n",
        "            print('Found possible matches in our database: '\n",
        "                  '{0}\\n'.format([x[0] for x in match_found]))\n",
        "            idx = match_found[0][1]\n",
        "        \n",
        "        #idx = self._fuzzy_matching(hashmap, fav_movie)\n",
        "        \n",
        "        # inference\n",
        "        print('Recommendation system start to make inference')\n",
        "        print('......\\n')\n",
        "        t0 = time.time()\n",
        "        distances, indices = model.kneighbors(\n",
        "            data[idx],\n",
        "            n_neighbors=n_recommendations+1)\n",
        "        \n",
        "        # get list of raw idx of recommendations\n",
        "        raw_recommends = \\\n",
        "            sorted(\n",
        "                list(\n",
        "                    zip(\n",
        "                        indices.squeeze().tolist(),\n",
        "                        distances.squeeze().tolist()\n",
        "                    )\n",
        "                ),\n",
        "                key=lambda x: x[1]\n",
        "            )[:0:-1]\n",
        "        print('It took my system {:.2f}s to make inference \\n\\\n",
        "              '.format(time.time() - t0))\n",
        "        # return recommendation (movieId, distance)\n",
        "        return raw_recommends\n",
        "\n",
        "    def make_recommendations(self, fav_movie, n_recommendations):\n",
        "        \"\"\"\n",
        "        make top n movie recommendations\n",
        "        Parameters\n",
        "        ----------\n",
        "        fav_movie: str, name of user input movie\n",
        "        n_recommendations: int, top n recommendations\n",
        "        \"\"\"\n",
        "        # get data\n",
        "        movie_user_mat_sparse, hashmap = self._prep_data()\n",
        "        # get recommendations\n",
        "        raw_recommends = self._inference(\n",
        "            self.model, movie_user_mat_sparse, hashmap,\n",
        "            fav_movie, n_recommendations)\n",
        "        # print results\n",
        "        reverse_hashmap = {v: k for k, v in hashmap.items()}\n",
        "        print('Recommendations for {}:'.format(fav_movie))\n",
        "        for i, (idx, dist) in enumerate(raw_recommends):\n",
        "            print('{0}: {1}, with distance '\n",
        "                  'of {2}'.format(i+1, reverse_hashmap[idx], dist))\n",
        "\n"
      ],
      "execution_count": 0,
      "outputs": []
    },
    {
      "cell_type": "code",
      "metadata": {
        "id": "vy8x5jKnRHr2",
        "colab_type": "code",
        "colab": {
          "base_uri": "https://localhost:8080/",
          "height": 371
        },
        "outputId": "ef6969f9-437b-4fd1-8f16-8d4fa230cdea"
      },
      "source": [
        "recommend = KnnRecommender()\n",
        "recommend.set_filter_params(20, 20)\n",
        "recommend.make_recommendations('Captain America', 10)"
      ],
      "execution_count": 4,
      "outputs": [
        {
          "output_type": "stream",
          "text": [
            "You have input movie: Captain America\n",
            "Found possible matches in our database: ['Captain America: Civil War (2016)', 'Captain America: The Winter Soldier (2014)', 'Captain America: The First Avenger (2011)', 'Captain Phillips (2013)', 'Borat: Cultural Learnings of America for Make Benefit Glorious Nation of Kazakhstan (2006)', 'Team America: World Police (2004)', 'Coming to America (1988)', 'Beavis and Butt-Head Do America (1996)', 'American Pie (1999)']\n",
            "\n",
            "Recommendation system start to make inference\n",
            "......\n",
            "\n",
            "It took my system 0.11s to make inference \n",
            "              \n",
            "Recommendations for Captain America:\n",
            "1: Mad Max: Fury Road (2015), with distance of 0.45130580730238046\n",
            "2: Star Wars: Episode VII - The Force Awakens (2015), with distance of 0.4271566242244059\n",
            "3: Avengers: Age of Ultron (2015), with distance of 0.41587221510196537\n",
            "4: Iron Man 3 (2013), with distance of 0.40842913996731944\n",
            "5: Rogue One: A Star Wars Story (2016), with distance of 0.40769655565900265\n",
            "6: Doctor Strange (2016), with distance of 0.39412416597081046\n",
            "7: Man of Steel (2013), with distance of 0.38641662536701926\n",
            "8: Logan (2017), with distance of 0.3632053054155464\n",
            "9: Ant-Man (2015), with distance of 0.3440283765437375\n",
            "10: Captain America: The Winter Soldier (2014), with distance of 0.3181754336188598\n"
          ],
          "name": "stdout"
        }
      ]
    },
    {
      "cell_type": "code",
      "metadata": {
        "id": "0IqaxWC607Lj",
        "colab_type": "code",
        "colab": {}
      },
      "source": [
        ""
      ],
      "execution_count": 0,
      "outputs": []
    }
  ]
}